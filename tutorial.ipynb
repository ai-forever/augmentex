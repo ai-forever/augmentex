{
 "cells": [
  {
   "attachments": {},
   "cell_type": "markdown",
   "metadata": {},
   "source": [
    "# Аугментации на уровне символов"
   ]
  },
  {
   "cell_type": "code",
   "execution_count": 1,
   "metadata": {
    "pycharm": {
     "is_executing": false
    }
   },
   "outputs": [],
   "source": [
    "from augmentex.char import CharAug"
   ]
  },
  {
   "cell_type": "code",
   "execution_count": 2,
   "metadata": {
    "pycharm": {
     "is_executing": false
    }
   },
   "outputs": [],
   "source": [
    "char_aug = CharAug(\n",
    "    unit_prob=0.3, # Процент фразы к которой будут применены аугментации\n",
    "    min_aug=1, # Минимальное количество аугментаций\n",
    "    max_aug=5, # Максимальное количество аугментаций\n",
    "    mult_num=3 # Максимальное количество повторений символов (только для метода multiply)\n",
    "    )\n",
    "\n",
    "text = \"Съешь ещё этих мягких французских булок, да выпей чаю.\""
   ]
  },
  {
   "cell_type": "code",
   "execution_count": 3,
   "metadata": {
    "pycharm": {
     "is_executing": false
    }
   },
   "outputs": [
    {
     "data": {
      "text/plain": [
       "'Съешь ещё этих мягких фрАНцузскИх булок, да выпей чаю.'"
      ]
     },
     "execution_count": 3,
     "metadata": {},
     "output_type": "execute_result"
    }
   ],
   "source": [
    "# В методе augment, если не указывать action, то будет применен случайно выбранный\n",
    "char_aug.augment(text=text)"
   ]
  },
  {
   "cell_type": "code",
   "execution_count": 4,
   "metadata": {
    "pycharm": {
     "is_executing": false
    }
   },
   "outputs": [
    {
     "data": {
      "text/plain": [
       "['shift', 'orfo', 'typo', 'delete', 'multiply', 'swap', 'insert']"
      ]
     },
     "execution_count": 4,
     "metadata": {},
     "output_type": "execute_result"
    }
   ],
   "source": [
    "# Список доступных аугментаций\n",
    "char_aug.actions_list"
   ]
  },
  {
   "cell_type": "code",
   "execution_count": 5,
   "metadata": {},
   "outputs": [
    {
     "data": {
      "text/plain": [
       "'СъЕшь ещё этих мягКих фраНцузских булок, да выпей Чаю.'"
      ]
     },
     "execution_count": 5,
     "metadata": {},
     "output_type": "execute_result"
    }
   ],
   "source": [
    "# Случайно поменять регистр букв\n",
    "char_aug.augment(text=text, action='shift')"
   ]
  },
  {
   "cell_type": "code",
   "execution_count": 6,
   "metadata": {
    "pycharm": {
     "is_executing": false
    }
   },
   "outputs": [
    {
     "data": {
      "text/plain": [
       "'Съешь ещё этиз мягкех французских булок, ла тыпей саю.'"
      ]
     },
     "execution_count": 6,
     "metadata": {},
     "output_type": "execute_result"
    }
   ],
   "source": [
    "# Заменить буквы на ошибочные согласно статистике ошибок\n",
    "char_aug.augment(text=text, action='orfo')"
   ]
  },
  {
   "cell_type": "code",
   "execution_count": 7,
   "metadata": {
    "pycharm": {
     "is_executing": false
    }
   },
   "outputs": [
    {
     "data": {
      "text/plain": [
       "'Съель езё этих мягких французскпх булок, да аыпей чпю.'"
      ]
     },
     "execution_count": 7,
     "metadata": {},
     "output_type": "execute_result"
    }
   ],
   "source": [
    "# Заменить буквы на их опечатки с соседних клавиш\n",
    "char_aug.augment(text=text, action='typo')"
   ]
  },
  {
   "cell_type": "code",
   "execution_count": 8,
   "metadata": {},
   "outputs": [
    {
     "data": {
      "text/plain": [
       "'Съеь щё эих мягких французскх булок, да выей чаю.'"
      ]
     },
     "execution_count": 8,
     "metadata": {},
     "output_type": "execute_result"
    }
   ],
   "source": [
    "# Удалить случайную букву\n",
    "char_aug.augment(text=text, action='delete')"
   ]
  },
  {
   "cell_type": "code",
   "execution_count": 9,
   "metadata": {},
   "outputs": [
    {
     "data": {
      "text/plain": [
       "'Съешь ещё этих мягкцих фчранцэузскиьх булок, да выпей шчаю.'"
      ]
     },
     "execution_count": 9,
     "metadata": {},
     "output_type": "execute_result"
    }
   ],
   "source": [
    "# Вставить случайную букву\n",
    "char_aug.augment(text=text, action='insert')"
   ]
  },
  {
   "cell_type": "code",
   "execution_count": 10,
   "metadata": {},
   "outputs": [
    {
     "data": {
      "text/plain": [
       "'Съешь ещё этих мяггких французских булок, даа выпей чаю.'"
      ]
     },
     "execution_count": 10,
     "metadata": {},
     "output_type": "execute_result"
    }
   ],
   "source": [
    "# Повторение случайной буквы\n",
    "char_aug.augment(text=text, action='multiply')"
   ]
  },
  {
   "cell_type": "code",
   "execution_count": 11,
   "metadata": {},
   "outputs": [
    {
     "data": {
      "text/plain": [
       "'Съешь ещёэ тихм якгих французских буолк, ад выпей чаю.'"
      ]
     },
     "execution_count": 11,
     "metadata": {},
     "output_type": "execute_result"
    }
   ],
   "source": [
    "# Поменять местами соседние буквы\n",
    "char_aug.augment(text=text, action='swap')"
   ]
  },
  {
   "cell_type": "code",
   "execution_count": 12,
   "metadata": {},
   "outputs": [
    {
     "data": {
      "text/plain": [
       "['Съешь ещё этих мягких французских булок, да выпей чаю.',\n",
       " 'Съешь ещё этих мягких французских булок, да выпей чаю.',\n",
       " 'Съешь ещё этих мягких французских булок, да выпей чаю.',\n",
       " 'Сешь ещёэтих мягких француских булок, да выей чю.',\n",
       " 'Съешь ещё этих мягких французских булок, да выпей чаю.',\n",
       " 'Съегь ешё этих мягких французских бубнл, да выпей чаю.',\n",
       " 'Съешь ещё этих мягких французсских булок, да выпей чаю.',\n",
       " 'Съкшь ещё этих мягких йранцузских булок, да вып62 чаю.',\n",
       " 'Съешь ещё этих мягких французских булок, да выпей чаю.',\n",
       " 'Съешь ещё этих мягких французских булок, да выпей чаю.']"
      ]
     },
     "execution_count": 12,
     "metadata": {},
     "output_type": "execute_result"
    }
   ],
   "source": [
    "# Аугментации для батча тектов. batch_prob определяет долю элементов списка которые будут изменены\n",
    "text_list = ['Съешь ещё этих мягких французских булок, да выпей чаю.'] * 10\n",
    "char_aug.aug_batch(text_list, batch_prob=0.5)"
   ]
  },
  {
   "cell_type": "code",
   "execution_count": 13,
   "metadata": {},
   "outputs": [
    {
     "data": {
      "text/plain": [
       "['Съешь ещё этих мягких французских булок, да выпей чаю.',\n",
       " 'Съешь ещё этих мягкких французских булок, да выпей чаюю.',\n",
       " 'Съешь ещё этих мягкиих французских булок, да выпей чаю.',\n",
       " 'Съешь ещё этих мягких фрранццузских булок, да ввыпей чаю.',\n",
       " 'Съешь ещё этих мягких французских булок, да выпей чаю.',\n",
       " 'Съешь ещёё этихх мягкиих французских булок, да выпей чаю.',\n",
       " 'Съешшь еещё этих мягких французских булок, да выпей чаю.',\n",
       " 'Съешь ещё этих мягких французских булок, да выпей чаю.',\n",
       " 'Съешь ещё этих мягких французских булок, да выпей чаю.',\n",
       " 'Съешь ещё этих мягких французских булок, да выпей чаю.']"
      ]
     },
     "execution_count": 13,
     "metadata": {},
     "output_type": "execute_result"
    }
   ],
   "source": [
    "# также можно определить тип аугментации который будет применен, по умолчанию будет применена случайный вид аугментации\n",
    "text_list = ['Съешь ещё этих мягких французских булок, да выпей чаю.'] * 10\n",
    "char_aug.aug_batch(text_list, batch_prob=0.5, action='multiply')\n"
   ]
  },
  {
   "attachments": {},
   "cell_type": "markdown",
   "metadata": {},
   "source": [
    "# Аугментации на уровне слов"
   ]
  },
  {
   "cell_type": "code",
   "execution_count": 14,
   "metadata": {},
   "outputs": [],
   "source": [
    "from augmentex.word import WordAug\n"
   ]
  },
  {
   "cell_type": "code",
   "execution_count": 15,
   "metadata": {},
   "outputs": [],
   "source": [
    "word_aug = WordAug(\n",
    "    unit_prob=0.4, # Процент фразы к которой будут применены аугментации\n",
    "    min_aug=1, # Минимальное количество аугментаций\n",
    "    max_aug=5, # Максимальное количество аугментаций\n",
    "    )\n",
    "\n",
    "text = \"Съешь ещё этих мягких французских булок, да выпей чаю.\""
   ]
  },
  {
   "cell_type": "code",
   "execution_count": 16,
   "metadata": {},
   "outputs": [
    {
     "data": {
      "text/plain": [
       "'Съешь е щ ё этих мягких французских б у л о к , д а выпей чаю.'"
      ]
     },
     "execution_count": 16,
     "metadata": {},
     "output_type": "execute_result"
    }
   ],
   "source": [
    "# В методе augment, если не указывать action, то будет применен случайно выбранный\n",
    "word_aug.augment(text=text)"
   ]
  },
  {
   "cell_type": "code",
   "execution_count": 17,
   "metadata": {},
   "outputs": [
    {
     "data": {
      "text/plain": [
       "['replace', 'delete', 'swap', 'stopword', 'reverse', 'text2emoji', 'split']"
      ]
     },
     "execution_count": 17,
     "metadata": {},
     "output_type": "execute_result"
    }
   ],
   "source": [
    "# Список доступных аугментаций\n",
    "word_aug.actions_list"
   ]
  },
  {
   "cell_type": "code",
   "execution_count": 18,
   "metadata": {},
   "outputs": [
    {
     "data": {
      "text/plain": [
       "'Съешь ещё этих мягких французских булок, дло выпей чаю.'"
      ]
     },
     "execution_count": 18,
     "metadata": {},
     "output_type": "execute_result"
    }
   ],
   "source": [
    "# Заменяет правильно написанное слово на такое же с орфографической ошибкой\n",
    "word_aug.augment(text=text, action='replace')"
   ]
  },
  {
   "cell_type": "code",
   "execution_count": 19,
   "metadata": {},
   "outputs": [
    {
     "data": {
      "text/plain": [
       "'Съешь ещё французских булок, да выпей'"
      ]
     },
     "execution_count": 19,
     "metadata": {},
     "output_type": "execute_result"
    }
   ],
   "source": [
    "# Удаляет случайные слова из текста\n",
    "word_aug.augment(text=text, action='delete')"
   ]
  },
  {
   "cell_type": "code",
   "execution_count": 20,
   "metadata": {},
   "outputs": [
    {
     "data": {
      "text/plain": [
       "'Съешь ещё этих мягких французских булок, да чаю. выпей'"
      ]
     },
     "execution_count": 20,
     "metadata": {},
     "output_type": "execute_result"
    }
   ],
   "source": [
    "# Перестановка двух случайных слов\n",
    "word_aug.augment(text=text, action='swap')"
   ]
  },
  {
   "cell_type": "code",
   "execution_count": 21,
   "metadata": {},
   "outputs": [
    {
     "data": {
      "text/plain": [
       "'Съешь да ещё этих во мягких это французских булок, да выпей чаю.'"
      ]
     },
     "execution_count": 21,
     "metadata": {},
     "output_type": "execute_result"
    }
   ],
   "source": [
    "# Cлучайная вставка слов-паразитов\n",
    "word_aug.augment(text=text, action='stopword')"
   ]
  },
  {
   "cell_type": "code",
   "execution_count": 22,
   "metadata": {},
   "outputs": [
    {
     "data": {
      "text/plain": [
       "'Съешь ещё этих мягких Французских булок, Да выпей Чаю.'"
      ]
     },
     "execution_count": 22,
     "metadata": {},
     "output_type": "execute_result"
    }
   ],
   "source": [
    "# Меняет написание заглавной буквы в словах\n",
    "word_aug.augment(text=text, action='reverse')"
   ]
  },
  {
   "cell_type": "code",
   "execution_count": 23,
   "metadata": {},
   "outputs": [
    {
     "data": {
      "text/plain": [
       "'Съешь ещё этих мягких французских булок, да выпей чаю.'"
      ]
     },
     "execution_count": 23,
     "metadata": {},
     "output_type": "execute_result"
    }
   ],
   "source": [
    "# Меняет слово на соответствующий эмодзи\n",
    "word_aug.augment(text=text, action='text2emoji')"
   ]
  },
  {
   "cell_type": "code",
   "execution_count": 24,
   "metadata": {},
   "outputs": [
    {
     "data": {
      "text/plain": [
       "'С ъ е ш ь ещё этих мягких французских булок, д а в ы п е й чаю.'"
      ]
     },
     "execution_count": 24,
     "metadata": {},
     "output_type": "execute_result"
    }
   ],
   "source": [
    "# Добавляет в слово пробелы между буквами\n",
    "word_aug.augment(text=text, action='split')"
   ]
  },
  {
   "cell_type": "code",
   "execution_count": 25,
   "metadata": {},
   "outputs": [
    {
     "data": {
      "text/plain": [
       "['Съешь ещё этих мягких французских булок, да выпей чаю.',\n",
       " 'Съешь ещё э т и х мягких ф р а н ц у з с к и х булок, д а выпей чаю.',\n",
       " 'Съешь ишо этих мягких французских булок, да выпей чаю.',\n",
       " 'Съешь французских ещё мягких булок, этих да выпей чаю.',\n",
       " 'Съешь ещё этих мягких французских булок, да выпей чаю.',\n",
       " 'Съешь ещё этих мягких французских булок, да выпей чаю.',\n",
       " 'Съешь ещё да этих мягких и французских булок, блин да выпей чаю.',\n",
       " 'Съешь ещё этих мягких французских булок, да выпей чаю.',\n",
       " 'Съешь ещё этих мягких французских булок, да выпей чаю.',\n",
       " 'Съешь ещё этих мягких французских булок, да выпей чаю.']"
      ]
     },
     "execution_count": 25,
     "metadata": {},
     "output_type": "execute_result"
    }
   ],
   "source": [
    "text_list = ['Съешь ещё этих мягких французских булок, да выпей чаю.'] * 10\n",
    "word_aug.aug_batch(text_list, batch_prob=0.5)"
   ]
  },
  {
   "cell_type": "code",
   "execution_count": 26,
   "metadata": {},
   "outputs": [
    {
     "data": {
      "text/plain": [
       "['Съешь ещё этих мягких французских булок, да выпей чаю.',\n",
       " 'Съешь ещё этих мягких французских булок, да выпей чаю.',\n",
       " 'Съешь ещё этих мягких французских булок, да выпей чаю.',\n",
       " 'Съешь ещё этих мягких французских булок, дти выпей чаю.',\n",
       " 'Съешь ещё этих мягких французских булок, доча выпей чаю.',\n",
       " 'Съешь ещё этих мягких французских булок, да выпей чаю.',\n",
       " 'Съешь ещё этих мягких французских булок, да выпей чаю.',\n",
       " 'Съешь ещё этих мягких французских булок, да выпей чаю.',\n",
       " 'Съешь ещё этих мягких французских булок, да выпей чаю.',\n",
       " 'Съешь ещё этих мягких французских булок, да выпей чаю.']"
      ]
     },
     "execution_count": 26,
     "metadata": {},
     "output_type": "execute_result"
    }
   ],
   "source": [
    "# Также можно определить тип аугментации который будет применен, по умолчанию будет применена случайный вид аугментации\n",
    "text_list = ['Съешь ещё этих мягких французских булок, да выпей чаю.'] * 10\n",
    "word_aug.aug_batch(text_list, batch_prob=0.5, action='replace')"
   ]
  },
  {
   "cell_type": "code",
   "execution_count": null,
   "metadata": {},
   "outputs": [],
   "source": []
  }
 ],
 "metadata": {
  "kernelspec": {
   "display_name": "venv",
   "language": "python",
   "name": "python3"
  },
  "language_info": {
   "codemirror_mode": {
    "name": "ipython",
    "version": 3
   },
   "file_extension": ".py",
   "mimetype": "text/x-python",
   "name": "python",
   "nbconvert_exporter": "python",
   "pygments_lexer": "ipython3",
   "version": "3.10.0"
  },
  "pycharm": {
   "stem_cell": {
    "cell_type": "raw",
    "metadata": {
     "collapsed": false
    },
    "source": []
   }
  },
  "vscode": {
   "interpreter": {
    "hash": "a27ddbd5b643232876b26334233e9f91183c7ac6b80251be0efee841d6766027"
   }
  }
 },
 "nbformat": 4,
 "nbformat_minor": 4
}
