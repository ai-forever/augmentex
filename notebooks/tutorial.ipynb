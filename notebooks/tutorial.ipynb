{
 "cells": [
  {
   "cell_type": "code",
   "execution_count": 1,
   "metadata": {},
   "outputs": [],
   "source": [
    "import sys\n",
    "sys.path.append(\"../\")"
   ]
  },
  {
   "attachments": {},
   "cell_type": "markdown",
   "metadata": {},
   "source": [
    "# Аугментации на уровне символов"
   ]
  },
  {
   "cell_type": "code",
   "execution_count": 2,
   "metadata": {
    "pycharm": {
     "is_executing": false
    }
   },
   "outputs": [],
   "source": [
    "from augmentex import CharAug"
   ]
  },
  {
   "cell_type": "code",
   "execution_count": 3,
   "metadata": {
    "pycharm": {
     "is_executing": false
    }
   },
   "outputs": [],
   "source": [
    "char_aug = CharAug(\n",
    "    unit_prob=0.3,\n",
    "    min_aug=1,\n",
    "    max_aug=5,\n",
    "    mult_num=3,\n",
    "    random_seed=42,\n",
    "    lang=\"rus\",\n",
    "    platform=\"pc\",\n",
    "    )\n",
    "\n",
    "text = \"Привет, как дела?\""
   ]
  },
  {
   "cell_type": "code",
   "execution_count": 4,
   "metadata": {
    "pycharm": {
     "is_executing": false
    }
   },
   "outputs": [
    {
     "data": {
      "text/plain": [
       "'Пнривыеут, как ждела?с'"
      ]
     },
     "execution_count": 4,
     "metadata": {},
     "output_type": "execute_result"
    }
   ],
   "source": [
    "# В методе augment, если не указывать action, то будет применен случайно выбранный\n",
    "char_aug.augment(text=text)"
   ]
  },
  {
   "cell_type": "code",
   "execution_count": 5,
   "metadata": {
    "pycharm": {
     "is_executing": false
    }
   },
   "outputs": [
    {
     "data": {
      "text/plain": [
       "['shift', 'orfo', 'typo', 'delete', 'multiply', 'swap', 'insert']"
      ]
     },
     "execution_count": 5,
     "metadata": {},
     "output_type": "execute_result"
    }
   ],
   "source": [
    "# Список доступных аугментаций\n",
    "char_aug.actions_list"
   ]
  },
  {
   "cell_type": "code",
   "execution_count": 6,
   "metadata": {},
   "outputs": [
    {
     "data": {
      "text/plain": [
       "'ПРивЕт, каК дела?'"
      ]
     },
     "execution_count": 6,
     "metadata": {},
     "output_type": "execute_result"
    }
   ],
   "source": [
    "# Случайно поменять регистр букв\n",
    "char_aug.augment(text=text, action=\"shift\")"
   ]
  },
  {
   "cell_type": "code",
   "execution_count": 7,
   "metadata": {
    "pycharm": {
     "is_executing": false
    }
   },
   "outputs": [
    {
     "data": {
      "text/plain": [
       "'Пёевет, как дида?'"
      ]
     },
     "execution_count": 7,
     "metadata": {},
     "output_type": "execute_result"
    }
   ],
   "source": [
    "# Заменить буквы на ошибочные согласно статистике ошибок\n",
    "char_aug.augment(text=text, action=\"orfo\")"
   ]
  },
  {
   "cell_type": "code",
   "execution_count": 8,
   "metadata": {
    "pycharm": {
     "is_executing": false
    }
   },
   "outputs": [
    {
     "data": {
      "text/plain": [
       "'Привет, евк дела?'"
      ]
     },
     "execution_count": 8,
     "metadata": {},
     "output_type": "execute_result"
    }
   ],
   "source": [
    "# Заменить буквы на их опечатки с соседних клавиш\n",
    "char_aug.augment(text=text, action=\"typo\")"
   ]
  },
  {
   "cell_type": "code",
   "execution_count": 9,
   "metadata": {},
   "outputs": [
    {
     "data": {
      "text/plain": [
       "'Приеткк дла?'"
      ]
     },
     "execution_count": 9,
     "metadata": {},
     "output_type": "execute_result"
    }
   ],
   "source": [
    "# Удалить случайную букву\n",
    "char_aug.augment(text=text, action=\"delete\")"
   ]
  },
  {
   "cell_type": "code",
   "execution_count": 10,
   "metadata": {},
   "outputs": [
    {
     "data": {
      "text/plain": [
       "'Пцриувет, кбак дьелба?'"
      ]
     },
     "execution_count": 10,
     "metadata": {},
     "output_type": "execute_result"
    }
   ],
   "source": [
    "# Вставить случайную букву\n",
    "char_aug.augment(text=text, action=\"insert\")"
   ]
  },
  {
   "cell_type": "code",
   "execution_count": 11,
   "metadata": {},
   "outputs": [
    {
     "data": {
      "text/plain": [
       "'Приивеет, какк дела?'"
      ]
     },
     "execution_count": 11,
     "metadata": {},
     "output_type": "execute_result"
    }
   ],
   "source": [
    "# Повторение случайной буквы\n",
    "char_aug.augment(text=text, action=\"multiply\")"
   ]
  },
  {
   "cell_type": "code",
   "execution_count": 12,
   "metadata": {},
   "outputs": [
    {
     "data": {
      "text/plain": [
       "'рПвие,т кка длеа?'"
      ]
     },
     "execution_count": 12,
     "metadata": {},
     "output_type": "execute_result"
    }
   ],
   "source": [
    "# Поменять местами соседние буквы\n",
    "char_aug.augment(text=text, action=\"swap\")"
   ]
  },
  {
   "cell_type": "code",
   "execution_count": 31,
   "metadata": {},
   "outputs": [
    {
     "data": {
      "text/plain": [
       "['Пцрвийвет, как дейлца?',\n",
       " 'Привнеыт, ксакж удела?',\n",
       " 'Привет, как дела?',\n",
       " 'Привет, как дела?',\n",
       " 'Приве, катк дела?',\n",
       " 'Привет, как дела?',\n",
       " 'Пирвет,к акд леа?',\n",
       " 'Привет, как дела?',\n",
       " 'Привет, как дела?',\n",
       " 'Приввет, каак деела?']"
      ]
     },
     "execution_count": 31,
     "metadata": {},
     "output_type": "execute_result"
    }
   ],
   "source": [
    "# Аугментации для батча тектов. batch_prob определяет долю элементов списка которые будут изменены\n",
    "text_list = [\"Привет, как дела?\"] * 10\n",
    "char_aug.aug_batch(text_list, batch_prob=0.5)"
   ]
  },
  {
   "cell_type": "code",
   "execution_count": 32,
   "metadata": {},
   "outputs": [
    {
     "data": {
      "text/plain": [
       "['Привет, как дела?',\n",
       " 'Приивет, как дела?',\n",
       " 'Привет, как дела?',\n",
       " 'Привет, как дела?',\n",
       " 'Прривет, как делла?',\n",
       " 'Привет, как ддела?',\n",
       " 'Прриввет, какк делла?',\n",
       " 'Привет, как дела?',\n",
       " 'Привет, как дела?',\n",
       " 'ППривет, как дела?']"
      ]
     },
     "execution_count": 32,
     "metadata": {},
     "output_type": "execute_result"
    }
   ],
   "source": [
    "# также можно определить тип аугментации который будет применен, по умолчанию будет применена случайный вид аугментации\n",
    "text_list = [\"Привет, как дела?\"] * 10\n",
    "char_aug.aug_batch(text_list, batch_prob=0.5, action=\"multiply\")\n"
   ]
  },
  {
   "attachments": {},
   "cell_type": "markdown",
   "metadata": {},
   "source": [
    "# Аугментации на уровне слов"
   ]
  },
  {
   "cell_type": "code",
   "execution_count": 16,
   "metadata": {},
   "outputs": [],
   "source": [
    "from augmentex import WordAug\n"
   ]
  },
  {
   "cell_type": "code",
   "execution_count": 17,
   "metadata": {},
   "outputs": [],
   "source": [
    "word_aug = WordAug(\n",
    "    unit_prob=0.4,\n",
    "    min_aug=1,\n",
    "    max_aug=5,\n",
    "    random_seed=42,\n",
    "    lang=\"rus\",\n",
    "    platform=\"pc\",\n",
    "    )\n",
    "\n",
    "text = \"Привет, как дела?\""
   ]
  },
  {
   "cell_type": "code",
   "execution_count": 18,
   "metadata": {},
   "outputs": [
    {
     "data": {
      "text/plain": [
       "'Привет, как д е л а ?'"
      ]
     },
     "execution_count": 18,
     "metadata": {},
     "output_type": "execute_result"
    }
   ],
   "source": [
    "# В методе augment, если не указывать action, то будет применен случайно выбранный\n",
    "word_aug.augment(text=text)"
   ]
  },
  {
   "cell_type": "code",
   "execution_count": 19,
   "metadata": {},
   "outputs": [
    {
     "data": {
      "text/plain": [
       "['replace',\n",
       " 'delete',\n",
       " 'swap',\n",
       " 'stopword',\n",
       " 'reverse',\n",
       " 'text2emoji',\n",
       " 'split',\n",
       " 'ngram']"
      ]
     },
     "execution_count": 19,
     "metadata": {},
     "output_type": "execute_result"
    }
   ],
   "source": [
    "# Список доступных аугментаций\n",
    "word_aug.actions_list"
   ]
  },
  {
   "cell_type": "code",
   "execution_count": 20,
   "metadata": {},
   "outputs": [
    {
     "data": {
      "text/plain": [
       "'пркет, как дела?'"
      ]
     },
     "execution_count": 20,
     "metadata": {},
     "output_type": "execute_result"
    }
   ],
   "source": [
    "# Заменяет правильно написанное слово на такое же с орфографической ошибкой\n",
    "word_aug.augment(text=text, action=\"replace\")"
   ]
  },
  {
   "cell_type": "code",
   "execution_count": 21,
   "metadata": {},
   "outputs": [
    {
     "data": {
      "text/plain": [
       "'как дела?'"
      ]
     },
     "execution_count": 21,
     "metadata": {},
     "output_type": "execute_result"
    }
   ],
   "source": [
    "# Удаляет случайные слова из текста\n",
    "word_aug.augment(text=text, action=\"delete\")"
   ]
  },
  {
   "cell_type": "code",
   "execution_count": 22,
   "metadata": {},
   "outputs": [
    {
     "data": {
      "text/plain": [
       "'дела? как Привет,'"
      ]
     },
     "execution_count": 22,
     "metadata": {},
     "output_type": "execute_result"
    }
   ],
   "source": [
    "# Перестановка двух случайных слов\n",
    "word_aug.augment(text=text, action=\"swap\")"
   ]
  },
  {
   "cell_type": "code",
   "execution_count": 23,
   "metadata": {},
   "outputs": [
    {
     "data": {
      "text/plain": [
       "'Привет, скажем как дела?'"
      ]
     },
     "execution_count": 23,
     "metadata": {},
     "output_type": "execute_result"
    }
   ],
   "source": [
    "# Cлучайная вставка слов-паразитов\n",
    "word_aug.augment(text=text, action=\"stopword\")"
   ]
  },
  {
   "cell_type": "code",
   "execution_count": 24,
   "metadata": {},
   "outputs": [
    {
     "data": {
      "text/plain": [
       "'привет, как дела?'"
      ]
     },
     "execution_count": 24,
     "metadata": {},
     "output_type": "execute_result"
    }
   ],
   "source": [
    "# Меняет написание заглавной буквы в словах\n",
    "word_aug.augment(text=text, action=\"reverse\")"
   ]
  },
  {
   "cell_type": "code",
   "execution_count": 25,
   "metadata": {},
   "outputs": [
    {
     "data": {
      "text/plain": [
       "'👉, как дела?'"
      ]
     },
     "execution_count": 25,
     "metadata": {},
     "output_type": "execute_result"
    }
   ],
   "source": [
    "# Меняет слово на соответствующий эмодзи\n",
    "word_aug.augment(text=text, action=\"text2emoji\")"
   ]
  },
  {
   "cell_type": "code",
   "execution_count": 26,
   "metadata": {},
   "outputs": [
    {
     "data": {
      "text/plain": [
       "'П р и в е т , как дела?'"
      ]
     },
     "execution_count": 26,
     "metadata": {},
     "output_type": "execute_result"
    }
   ],
   "source": [
    "# Добавляет в слово пробелы между буквами\n",
    "word_aug.augment(text=text, action=\"split\")"
   ]
  },
  {
   "cell_type": "code",
   "execution_count": 27,
   "metadata": {},
   "outputs": [
    {
     "data": {
      "text/plain": [
       "'Привет, как дела?'"
      ]
     },
     "execution_count": 27,
     "metadata": {},
     "output_type": "execute_result"
    }
   ],
   "source": [
    "# Заменяет ngram в слове на ошибочные\n",
    "word_aug.augment(text=text, action=\"ngram\")"
   ]
  },
  {
   "cell_type": "code",
   "execution_count": 33,
   "metadata": {},
   "outputs": [
    {
     "data": {
      "text/plain": [
       "['Привет, как дела?',\n",
       " 'Привет, как дела?',\n",
       " 'Привет, как дела?',\n",
       " 'Прияет, как дела?',\n",
       " 'Привет, к а к дела?',\n",
       " 'Привет, как дела?',\n",
       " 'Привет, как дела?',\n",
       " 'Привет, как д е л а ?',\n",
       " 'Привет, как дела?',\n",
       " 'Привет, как дела?']"
      ]
     },
     "execution_count": 33,
     "metadata": {},
     "output_type": "execute_result"
    }
   ],
   "source": [
    "text_list = [\"Привет, как дела?\"] * 10\n",
    "word_aug.aug_batch(text_list, batch_prob=0.5)"
   ]
  },
  {
   "cell_type": "code",
   "execution_count": 34,
   "metadata": {},
   "outputs": [
    {
     "data": {
      "text/plain": [
       "['Привет, как дела?',\n",
       " 'Привет, как делло?',\n",
       " 'Привет, кн дела?',\n",
       " 'Привет, как дела?',\n",
       " 'Привет, как дела?',\n",
       " 'Привет, как делоъ?',\n",
       " 'Привет, как дела?',\n",
       " 'Привет, как дела?',\n",
       " 'Привет, как вла?',\n",
       " 'Привет, как делце?']"
      ]
     },
     "execution_count": 34,
     "metadata": {},
     "output_type": "execute_result"
    }
   ],
   "source": [
    "# Также можно определить тип аугментации который будет применен, по умолчанию будет применена случайный вид аугментации\n",
    "text_list = [\"Привет, как дела?\"] * 10\n",
    "word_aug.aug_batch(text_list, batch_prob=0.5, action=\"replace\")"
   ]
  },
  {
   "attachments": {},
   "cell_type": "markdown",
   "metadata": {},
   "source": [
    "# Compute own statistic"
   ]
  },
  {
   "cell_type": "code",
   "execution_count": 35,
   "metadata": {},
   "outputs": [],
   "source": [
    "char_aug = CharAug(\n",
    "    unit_prob=0.3, # Процент фразы к которой будут применены аугментации\n",
    "    min_aug=1, # Минимальное количество аугментаций\n",
    "    max_aug=5, # Максимальное количество аугментаций\n",
    "    mult_num=3, # Максимальное количество повторений символов (только для метода multiply)\n",
    "    random_seed=42,\n",
    "    lang=\"eng\",\n",
    "    platform=\"pc\",\n",
    "    correct_texts_path=\"correct_texts.txt\",\n",
    "    error_texts_path=\"error_texts.txt\",\n",
    "    )\n",
    "\n",
    "text = \"Screw you guys, I am going home. (c)\""
   ]
  },
  {
   "cell_type": "code",
   "execution_count": 36,
   "metadata": {},
   "outputs": [
    {
     "data": {
      "text/plain": [
       "'Ssrew yfu guys, I am going home. (c)'"
      ]
     },
     "execution_count": 36,
     "metadata": {},
     "output_type": "execute_result"
    }
   ],
   "source": [
    "# Заменить буквы на ошибочные согласно статистике ошибок\n",
    "char_aug.augment(text=text, action=\"orfo\")"
   ]
  },
  {
   "cell_type": "code",
   "execution_count": 37,
   "metadata": {},
   "outputs": [],
   "source": [
    "word_aug = WordAug(\n",
    "    unit_prob=0.4, # Процент фразы к которой будут применены аугментации\n",
    "    min_aug=1, # Минимальное количество аугментаций\n",
    "    max_aug=5, # Максимальное количество аугментаций\n",
    "    random_seed=42,\n",
    "    lang=\"eng\",\n",
    "    platform=\"pc\",\n",
    "    correct_texts_path=\"correct_texts.txt\",\n",
    "    error_texts_path=\"error_texts.txt\",\n",
    "    )\n",
    "\n",
    "text = \"Screw you guys, I am going home. (c)\""
   ]
  },
  {
   "cell_type": "code",
   "execution_count": 38,
   "metadata": {},
   "outputs": [
    {
     "data": {
      "text/plain": [
       "'Screw jo guys, I am going home. (c)'"
      ]
     },
     "execution_count": 38,
     "metadata": {},
     "output_type": "execute_result"
    }
   ],
   "source": [
    "# Заменяет правильно написанное слово на такое же с орфографической ошибкой\n",
    "word_aug.augment(text=text, action=\"replace\")"
   ]
  },
  {
   "attachments": {},
   "cell_type": "markdown",
   "metadata": {},
   "source": [
    "# BlackBox атаки на модели"
   ]
  },
  {
   "cell_type": "code",
   "execution_count": 2,
   "metadata": {},
   "outputs": [],
   "source": [
    "import json\n",
    "\n",
    "import torch\n",
    "from transformers import AutoModel, AutoTokenizer, AutoConfig, GPT2LMHeadModel, GPT2Tokenizer\n",
    "\n",
    "from augmentex import UnsupervisedDecoderAttack, UnsupervisedEncoderAttack, ClassificationEncoderAttack, RegressionEncoderAttack"
   ]
  },
  {
   "cell_type": "code",
   "execution_count": 3,
   "metadata": {},
   "outputs": [],
   "source": [
    "class MeanPooling(torch.nn.Module):\n",
    "    def __init__(self):\n",
    "        super(MeanPooling, self).__init__()\n",
    "\n",
    "    def forward(self, last_hidden_state, attention_mask):\n",
    "        input_mask_expanded = attention_mask.unsqueeze(\n",
    "            -1).expand(last_hidden_state.size()).float()\n",
    "        sum_embeddings = torch.sum(last_hidden_state * input_mask_expanded, 1)\n",
    "        sum_mask = input_mask_expanded.sum(1)\n",
    "        sum_mask = torch.clamp(sum_mask, min=1e-9)\n",
    "        mean_embeddings = sum_embeddings / sum_mask\n",
    "        return mean_embeddings\n",
    "\n",
    "\n",
    "class UnsupervisedEncoderModel(torch.nn.Module):\n",
    "    def __init__(self, path, max_len=128) -> None:\n",
    "        super().__init__()\n",
    "        self.path = path\n",
    "        self.max_len = max_len\n",
    "\n",
    "        self.model = AutoModel.from_pretrained(self.path)\n",
    "        self.tokenizer = AutoTokenizer.from_pretrained(self.path)\n",
    "        self.config = AutoConfig.from_pretrained(\n",
    "            self.path, output_hidden_states=True)\n",
    "\n",
    "        self.pool = MeanPooling()\n",
    "\n",
    "    def get_embedding(self, inputs):  # обязательный метод для Attack\n",
    "        encoded_input = self.tokenizer(\n",
    "            inputs, padding=True, truncation=True, max_length=self.max_len, return_tensors='pt')\n",
    "        encoded_input = encoded_input.to(next(self.parameters()).device)\n",
    "\n",
    "        model_output = self.model(**encoded_input)\n",
    "        sentence_embeddings = self.pool(\n",
    "            model_output[0], encoded_input['attention_mask'])\n",
    "\n",
    "        return sentence_embeddings\n",
    "\n",
    "\n",
    "class ClassificationEncoderModel(torch.nn.Module):\n",
    "    def __init__(self, path, max_len=128) -> None:\n",
    "        super().__init__()\n",
    "        self.path = path\n",
    "        self.max_len = max_len\n",
    "\n",
    "        self.model = AutoModel.from_pretrained(self.path)\n",
    "        self.tokenizer = AutoTokenizer.from_pretrained(self.path)\n",
    "        self.config = AutoConfig.from_pretrained(\n",
    "            self.path, output_hidden_states=True)\n",
    "\n",
    "        self.pool = MeanPooling()\n",
    "        self.fc = torch.nn.Linear(self.config.hidden_size, 3)\n",
    "        self.sm = torch.nn.Softmax(dim=1)\n",
    "\n",
    "    def get_embedding(self, inputs):  # обязательный метод для Attack\n",
    "        encoded_input = self.tokenizer(\n",
    "            inputs, padding=True, truncation=True, max_length=self.max_len, return_tensors='pt')\n",
    "        encoded_input = encoded_input.to(next(self.parameters()).device)\n",
    "\n",
    "        model_output = self.model(**encoded_input)\n",
    "        sentence_embeddings = self.pool(\n",
    "            model_output[0], encoded_input['attention_mask'])\n",
    "\n",
    "        return sentence_embeddings\n",
    "\n",
    "    def forward(self, batch_text):\n",
    "        sentence_embeddings = self.get_embedding(batch_text)\n",
    "        output = self.fc(sentence_embeddings)\n",
    "        output = self.sm(output)\n",
    "        return output\n",
    "\n",
    "\n",
    "class RegressionEncoderModel(torch.nn.Module):\n",
    "    def __init__(self, path, max_len=128) -> None:\n",
    "        super().__init__()\n",
    "        self.path = path\n",
    "        self.max_len = max_len\n",
    "\n",
    "        self.model = AutoModel.from_pretrained(self.path)\n",
    "        self.tokenizer = AutoTokenizer.from_pretrained(self.path)\n",
    "        self.config = AutoConfig.from_pretrained(\n",
    "            self.path, output_hidden_states=True)\n",
    "\n",
    "        self.pool = MeanPooling()\n",
    "        self.fc = torch.nn.Linear(self.config.hidden_size, 1)\n",
    "\n",
    "    def get_embedding(self, inputs):  # обязательный метод для Attack\n",
    "        encoded_input = self.tokenizer(\n",
    "            inputs, padding=True, truncation=True, max_length=self.max_len, return_tensors='pt')\n",
    "        encoded_input = encoded_input.to(next(self.parameters()).device)\n",
    "\n",
    "        model_output = self.model(**encoded_input)\n",
    "        sentence_embeddings = self.pool(\n",
    "            model_output[0], encoded_input['attention_mask'])\n",
    "\n",
    "        return sentence_embeddings\n",
    "\n",
    "    def forward(self, batch_text):\n",
    "        sentence_embeddings = self.get_embedding(batch_text)\n",
    "        output = self.fc(sentence_embeddings)\n",
    "        output = torch.sigmoid(output)\n",
    "        return output\n",
    "\n",
    "\n",
    "class DecoderModel(torch.nn.Module):\n",
    "    def __init__(self, path, max_len=128) -> None:\n",
    "        super().__init__()\n",
    "        self.path = path\n",
    "        self.max_len = max_len\n",
    "\n",
    "        self.model = GPT2LMHeadModel.from_pretrained(self.path)\n",
    "        self.tokenizer = GPT2Tokenizer.from_pretrained(self.path)\n",
    "        self.config = AutoConfig.from_pretrained(\n",
    "            self.path, output_hidden_states=True)\n",
    "        self.pool = MeanPooling()\n",
    "\n",
    "        self.tokenizer.padding_side = \"left\"\n",
    "        self.tokenizer.add_special_tokens({'pad_token': '<pad>'})\n",
    "\n",
    "    def get_embedding(self, inputs):  # обязательный метод для BB\n",
    "        encoded_input = self.tokenizer(\n",
    "            inputs, padding=True, return_tensors=\"pt\")\n",
    "        model_output = self.model.transformer.wte.weight[encoded_input[\"input_ids\"], :]\n",
    "        sentence_embeddings = self.pool(\n",
    "            model_output, encoded_input['attention_mask'])\n",
    "\n",
    "        return sentence_embeddings\n",
    "\n",
    "    def forward(self, batch_text):\n",
    "        input_ids = self.tokenizer(\n",
    "            batch_text, padding=True, return_tensors='pt')\n",
    "        input_ids = input_ids.to(next(self.parameters()).device)\n",
    "        outputs = self.model.generate(**input_ids, max_new_tokens=50)\n",
    "        outputs = self.tokenizer.batch_decode(\n",
    "            outputs, skip_special_tokens=True)\n",
    "\n",
    "        return outputs"
   ]
  },
  {
   "cell_type": "code",
   "execution_count": 4,
   "metadata": {},
   "outputs": [],
   "source": [
    "with open('ru_synonims.json', mode='r') as handle:\n",
    "    ru_synonims = json.load(handle)\n",
    "device = torch.device('cuda' if torch.cuda.is_available() else 'cpu')"
   ]
  },
  {
   "attachments": {},
   "cell_type": "markdown",
   "metadata": {},
   "source": [
    "### Unsupervised Encoder"
   ]
  },
  {
   "cell_type": "code",
   "execution_count": 5,
   "metadata": {},
   "outputs": [
    {
     "data": {
      "text/plain": [
       "['Сторона защиты уже изготовила список фраз которые будут озвучены в суде пишет издание',\n",
       " 'Там же отмечается что Киркоров оценил свой моральный ущерб в десять миллионов рублей кроме того с Успенской могут взыскать плана двух миллионов судебных издержек',\n",
       " 'Это произошло в ночь на 12 июня Злоумышленник отпилил голову коня маршала Константина Рокоссовского после чего скрылся с места происшествия',\n",
       " 'Вернувшись домой Раскольников получил долгожданное письмо от матери и услышал что его младшая сестра собирается замуж за богатого дельца',\n",
       " 'Это происшествие разбудило в нём желание жить Придя домой с Разумихиным Раскольников застал обеспокоенных маму и сестричку']"
      ]
     },
     "execution_count": 5,
     "metadata": {},
     "output_type": "execute_result"
    }
   ],
   "source": [
    "train_model_name = \"cointegrated/LaBSE-en-ru\"\n",
    "train_model = UnsupervisedEncoderModel(train_model_name).to(device)\n",
    "\n",
    "# Add model for attack module\n",
    "observer_model_name = \"ai-forever/ruElectra-small\"\n",
    "observer_model = UnsupervisedEncoderModel(observer_model_name).to(device)\n",
    "\n",
    "attack = UnsupervisedEncoderAttack(observer_model=observer_model,\n",
    "                                   syn_dict=ru_synonims, p_phrase=0.9)\n",
    "\n",
    "texts = [\n",
    "    \"Сторона защиты уже подготовила список фраз которые будут озвучены в суде пишет издание\",\n",
    "    \"Там же отмечается что Киркоров оценил свой моральный ущерб в десять миллионов рублей кроме того с Успенской могут взыскать порядка двух миллионов судебных издержек\",\n",
    "    \"Это произошло в ночь на 12 декабря Злоумышленник отпилил голову коня маршала Константина Рокоссовского после чего скрылся с места происшествия\",\n",
    "    \"Вернувшись домой Раскольников получил долгожданное письмо от матери и узнал что его младшая сестра собирается замуж за богатого дельца\",\n",
    "    \"Это происшествие разбудило в нём желание жить Придя домой с Разумихиным Раскольников застал обеспокоенных маму и сестру\"\n",
    "]\n",
    "\n",
    "attack.attack(train_model, texts)"
   ]
  },
  {
   "attachments": {},
   "cell_type": "markdown",
   "metadata": {},
   "source": [
    "### Classification Encoder"
   ]
  },
  {
   "cell_type": "code",
   "execution_count": 6,
   "metadata": {},
   "outputs": [
    {
     "data": {
      "text/plain": [
       "['Сторона защиты уже подготовила список фраз которые будут озвучены в суде создаёт издание',\n",
       " 'Там же отмечается что Киркоров посчитал свой моральный ущерб в десять миллионов рублей кроме того с Успенской могут взыскать порядка двух миллионов судебных издержек',\n",
       " 'Это произошло в ночь на 12 декабря Злоумышленник отпилил голову коня маршала Константина Рокоссовского после чего скрылся с депо происшествия',\n",
       " 'Вернувшись домой Раскольников получил долгожданное письмо от матери и узнал что его младшая сестра собирается замуж за богатого старателя',\n",
       " 'Это происшествие родило в нём желание жить Придя домой с Разумихиным Раскольников застал обеспокоенных маму и сестру']"
      ]
     },
     "execution_count": 6,
     "metadata": {},
     "output_type": "execute_result"
    }
   ],
   "source": [
    "train_model_name = \"cointegrated/LaBSE-en-ru\"\n",
    "train_model = ClassificationEncoderModel(train_model_name).to(device)\n",
    "\n",
    "# Add model for attack module\n",
    "observer_model_name = \"ai-forever/ruElectra-small\"\n",
    "observer_model = UnsupervisedEncoderModel(observer_model_name).to(device)\n",
    "\n",
    "attack = ClassificationEncoderAttack(observer_model=observer_model,\n",
    "                                     syn_dict=ru_synonims, p_phrase=0.9, norm=\"mae\")  # mse\n",
    "\n",
    "texts = [\n",
    "    \"Сторона защиты уже подготовила список фраз которые будут озвучены в суде пишет издание\",\n",
    "    \"Там же отмечается что Киркоров оценил свой моральный ущерб в десять миллионов рублей кроме того с Успенской могут взыскать порядка двух миллионов судебных издержек\",\n",
    "    \"Это произошло в ночь на 12 декабря Злоумышленник отпилил голову коня маршала Константина Рокоссовского после чего скрылся с места происшествия\",\n",
    "    \"Вернувшись домой Раскольников получил долгожданное письмо от матери и узнал что его младшая сестра собирается замуж за богатого дельца\",\n",
    "    \"Это происшествие разбудило в нём желание жить Придя домой с Разумихиным Раскольников застал обеспокоенных маму и сестру\"\n",
    "]\n",
    "\n",
    "labels = [0, 1, 2, 0, 1]\n",
    "\n",
    "attack.attack(train_model, texts, labels)"
   ]
  },
  {
   "attachments": {},
   "cell_type": "markdown",
   "metadata": {},
   "source": [
    "### Regression Encoder"
   ]
  },
  {
   "cell_type": "code",
   "execution_count": 7,
   "metadata": {},
   "outputs": [
    {
     "data": {
      "text/plain": [
       "['часть защиты уже подготовила список фраз которые будут озвучены в суде пишет издание',\n",
       " 'Там же отмечается что Киркоров оценил свой моральный ущерб в десять миллионов рублей кроме того с Успенской могут взыскать порядка двух миллионов судебных издержек',\n",
       " 'Это произошло в ночь на 12 декабря Злоумышленник отпилил голову коня маршала Константина Рокоссовского после чего скрылся с места происшествия',\n",
       " 'Вернувшись домой Раскольников получил долгожданное письмо от матери и узнал что его младшая сестра собирается замуж за богатого дельца',\n",
       " 'Это происшествие разбудило в нём желание жить Придя домой с Разумихиным Раскольников застал обеспокоенных маму и сестру']"
      ]
     },
     "execution_count": 7,
     "metadata": {},
     "output_type": "execute_result"
    }
   ],
   "source": [
    "train_model_name = \"cointegrated/LaBSE-en-ru\"\n",
    "train_model = RegressionEncoderModel(train_model_name).to(device)\n",
    "\n",
    "# Add model for attack module\n",
    "observer_model_name = \"ai-forever/ruElectra-small\"\n",
    "observer_model = UnsupervisedEncoderModel(observer_model_name).to(device)\n",
    "\n",
    "attack = RegressionEncoderAttack(observer_model=observer_model,\n",
    "                                 syn_dict=ru_synonims, p_phrase=0.9, norm=\"mae\")  # mse\n",
    "\n",
    "texts = [\n",
    "    \"Сторона защиты уже подготовила список фраз которые будут озвучены в суде пишет издание\",\n",
    "    \"Там же отмечается что Киркоров оценил свой моральный ущерб в десять миллионов рублей кроме того с Успенской могут взыскать порядка двух миллионов судебных издержек\",\n",
    "    \"Это произошло в ночь на 12 декабря Злоумышленник отпилил голову коня маршала Константина Рокоссовского после чего скрылся с места происшествия\",\n",
    "    \"Вернувшись домой Раскольников получил долгожданное письмо от матери и узнал что его младшая сестра собирается замуж за богатого дельца\",\n",
    "    \"Это происшествие разбудило в нём желание жить Придя домой с Разумихиным Раскольников застал обеспокоенных маму и сестру\"\n",
    "]\n",
    "\n",
    "labels = [0.0, 1.0, 2.0, 0.0, 1.0]\n",
    "\n",
    "attack.attack(train_model, texts, labels)"
   ]
  },
  {
   "attachments": {},
   "cell_type": "markdown",
   "metadata": {},
   "source": [
    "### Unsupervised Decoder"
   ]
  },
  {
   "cell_type": "code",
   "execution_count": 8,
   "metadata": {},
   "outputs": [
    {
     "data": {
      "application/vnd.jupyter.widget-view+json": {
       "model_id": "90896c035dee4224951ef37a00f3c207",
       "version_major": 2,
       "version_minor": 0
      },
      "text/plain": [
       "  0%|          | 0/1 [00:00<?, ?it/s]"
      ]
     },
     "metadata": {},
     "output_type": "display_data"
    },
    {
     "name": "stderr",
     "output_type": "stream",
     "text": [
      "huggingface/tokenizers: The current process just got forked, after parallelism has already been used. Disabling parallelism to avoid deadlocks...\n",
      "To disable this warning, you can either:\n",
      "\t- Avoid using `tokenizers` before the fork if possible\n",
      "\t- Explicitly set the environment variable TOKENIZERS_PARALLELISM=(true | false)\n"
     ]
    },
    {
     "data": {
      "application/vnd.jupyter.widget-view+json": {
       "model_id": "a0d21c10e09c45a085a454b878dedd04",
       "version_major": 2,
       "version_minor": 0
      },
      "text/plain": [
       "  0%|          | 0/2 [00:00<?, ?it/s]"
      ]
     },
     "metadata": {},
     "output_type": "display_data"
    },
    {
     "data": {
      "application/vnd.jupyter.widget-view+json": {
       "model_id": "454e5e33be134c9bb104b5ea40fc71f7",
       "version_major": 2,
       "version_minor": 0
      },
      "text/plain": [
       "  0%|          | 0/2 [00:00<?, ?it/s]"
      ]
     },
     "metadata": {},
     "output_type": "display_data"
    },
    {
     "data": {
      "application/vnd.jupyter.widget-view+json": {
       "model_id": "9caa1a160faa4d519651b6ccb49d1424",
       "version_major": 2,
       "version_minor": 0
      },
      "text/plain": [
       "  0%|          | 0/2 [00:00<?, ?it/s]"
      ]
     },
     "metadata": {},
     "output_type": "display_data"
    },
    {
     "data": {
      "application/vnd.jupyter.widget-view+json": {
       "model_id": "46c21560891b4b08a647827d658cea57",
       "version_major": 2,
       "version_minor": 0
      },
      "text/plain": [
       "  0%|          | 0/2 [00:00<?, ?it/s]"
      ]
     },
     "metadata": {},
     "output_type": "display_data"
    },
    {
     "data": {
      "text/plain": [
       "['позиция защиты уже подготовила список фраз которые будут озвучены в суде пишет издание',\n",
       " 'Там же отмечается что Киркоров посчитал свой моральный ущерб в десять миллионов рублей кроме того с Успенской могут взыскать порядка двух миллионов судебных издержек',\n",
       " 'Это произошло в ночь на 12 июня Злоумышленник отпилил голову коня маршала Константина Рокоссовского после чего скрылся с места происшествия',\n",
       " 'Вернувшись домой Раскольников получил долгожданное письмо от матери и признал что его младшая сестра собирается замуж за богатого дельца',\n",
       " 'Это происшествие разбудило в нём желание жить Придя домой с Разумихиным Раскольников застиг обеспокоенных маму и сестру']"
      ]
     },
     "execution_count": 8,
     "metadata": {},
     "output_type": "execute_result"
    }
   ],
   "source": [
    "train_model_name = \"ai-forever/mGPT\"\n",
    "train_model = DecoderModel(train_model_name).to(device)\n",
    "\n",
    "# Add model for attack module\n",
    "observer_model_name = \"ai-forever/ruElectra-small\"\n",
    "observer_model = UnsupervisedEncoderModel(observer_model_name).to(device)\n",
    "\n",
    "attack = UnsupervisedDecoderAttack(observer_model=observer_model,\n",
    "                                   syn_dict=ru_synonims, p_phrase=0.9)\n",
    "\n",
    "texts = [\n",
    "    \"Сторона защиты уже подготовила список фраз которые будут озвучены в суде пишет издание\",\n",
    "    \"Там же отмечается что Киркоров оценил свой моральный ущерб в десять миллионов рублей кроме того с Успенской могут взыскать порядка двух миллионов судебных издержек\",\n",
    "    \"Это произошло в ночь на 12 декабря Злоумышленник отпилил голову коня маршала Константина Рокоссовского после чего скрылся с места происшествия\",\n",
    "    \"Вернувшись домой Раскольников получил долгожданное письмо от матери и узнал что его младшая сестра собирается замуж за богатого дельца\",\n",
    "    \"Это происшествие разбудило в нём желание жить Придя домой с Разумихиным Раскольников застал обеспокоенных маму и сестру\"\n",
    "]\n",
    "\n",
    "attack.attack(train_model, texts)"
   ]
  },
  {
   "cell_type": "code",
   "execution_count": null,
   "metadata": {},
   "outputs": [],
   "source": []
  }
 ],
 "metadata": {
  "kernelspec": {
   "display_name": "venv",
   "language": "python",
   "name": "python3"
  },
  "language_info": {
   "codemirror_mode": {
    "name": "ipython",
    "version": 3
   },
   "file_extension": ".py",
   "mimetype": "text/x-python",
   "name": "python",
   "nbconvert_exporter": "python",
   "pygments_lexer": "ipython3",
   "version": "3.9.6"
  },
  "pycharm": {
   "stem_cell": {
    "cell_type": "raw",
    "metadata": {
     "collapsed": false
    },
    "source": []
   }
  },
  "vscode": {
   "interpreter": {
    "hash": "a27ddbd5b643232876b26334233e9f91183c7ac6b80251be0efee841d6766027"
   }
  }
 },
 "nbformat": 4,
 "nbformat_minor": 4
}
