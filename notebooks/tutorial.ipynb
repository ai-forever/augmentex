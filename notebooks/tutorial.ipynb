{
 "cells": [
  {
   "attachments": {},
   "cell_type": "markdown",
   "metadata": {},
   "source": [
    "# Аугментации на уровне символов"
   ]
  },
  {
   "cell_type": "code",
   "execution_count": 1,
   "metadata": {
    "pycharm": {
     "is_executing": false
    }
   },
   "outputs": [],
   "source": [
    "from augmentex import CharAug"
   ]
  },
  {
   "cell_type": "code",
   "execution_count": 2,
   "metadata": {
    "pycharm": {
     "is_executing": false
    }
   },
   "outputs": [],
   "source": [
    "char_aug = CharAug(\n",
    "    unit_prob=0.3, # Процент фразы к которой будут применены аугментации\n",
    "    min_aug=1, # Минимальное количество аугментаций\n",
    "    max_aug=5, # Максимальное количество аугментаций\n",
    "    mult_num=3, # Максимальное количество повторений символов (только для метода multiply)\n",
    "    random_seed=42,\n",
    "    lang=\"eng\",\n",
    "    platform=\"pc\",\n",
    "    )\n",
    "\n",
    "text = \"Screw you guys, I am going home. (c)\""
   ]
  },
  {
   "cell_type": "code",
   "execution_count": 3,
   "metadata": {
    "pycharm": {
     "is_executing": false
    }
   },
   "outputs": [
    {
     "data": {
      "text/plain": [
       "'Scorew yotu guys,u hI kam going home. (c)'"
      ]
     },
     "execution_count": 3,
     "metadata": {},
     "output_type": "execute_result"
    }
   ],
   "source": [
    "# В методе augment, если не указывать action, то будет применен случайно выбранный\n",
    "char_aug.augment(text=text)"
   ]
  },
  {
   "cell_type": "code",
   "execution_count": 4,
   "metadata": {
    "pycharm": {
     "is_executing": false
    }
   },
   "outputs": [
    {
     "data": {
      "text/plain": [
       "['shift', 'orfo', 'typo', 'delete', 'multiply', 'swap', 'insert']"
      ]
     },
     "execution_count": 4,
     "metadata": {},
     "output_type": "execute_result"
    }
   ],
   "source": [
    "# Список доступных аугментаций\n",
    "char_aug.actions_list"
   ]
  },
  {
   "cell_type": "code",
   "execution_count": 5,
   "metadata": {},
   "outputs": [
    {
     "data": {
      "text/plain": [
       "'Screw YoU guys, I am going Home. (C)'"
      ]
     },
     "execution_count": 5,
     "metadata": {},
     "output_type": "execute_result"
    }
   ],
   "source": [
    "# Случайно поменять регистр букв\n",
    "char_aug.augment(text=text, action=\"shift\")"
   ]
  },
  {
   "cell_type": "code",
   "execution_count": 6,
   "metadata": {
    "pycharm": {
     "is_executing": false
    }
   },
   "outputs": [
    {
     "data": {
      "text/plain": [
       "'Sedew you guya, I am going home. (c)'"
      ]
     },
     "execution_count": 6,
     "metadata": {},
     "output_type": "execute_result"
    }
   ],
   "source": [
    "# Заменить буквы на ошибочные согласно статистике ошибок\n",
    "char_aug.augment(text=text, action=\"orfo\")"
   ]
  },
  {
   "cell_type": "code",
   "execution_count": 7,
   "metadata": {
    "pycharm": {
     "is_executing": false
    }
   },
   "outputs": [
    {
     "data": {
      "text/plain": [
       "'Sxrew you gugs, I am going home. (x)'"
      ]
     },
     "execution_count": 7,
     "metadata": {},
     "output_type": "execute_result"
    }
   ],
   "source": [
    "# Заменить буквы на их опечатки с соседних клавиш\n",
    "char_aug.augment(text=text, action=\"typo\")"
   ]
  },
  {
   "cell_type": "code",
   "execution_count": 8,
   "metadata": {},
   "outputs": [
    {
     "data": {
      "text/plain": [
       "'crew you guys Iam goinghme. (c)'"
      ]
     },
     "execution_count": 8,
     "metadata": {},
     "output_type": "execute_result"
    }
   ],
   "source": [
    "# Удалить случайную букву\n",
    "char_aug.augment(text=text, action=\"delete\")"
   ]
  },
  {
   "cell_type": "code",
   "execution_count": 9,
   "metadata": {},
   "outputs": [
    {
     "data": {
      "text/plain": [
       "'Screw you ughuys, I vam gcoing hxome. (c)'"
      ]
     },
     "execution_count": 9,
     "metadata": {},
     "output_type": "execute_result"
    }
   ],
   "source": [
    "# Вставить случайную букву\n",
    "char_aug.augment(text=text, action=\"insert\")"
   ]
  },
  {
   "cell_type": "code",
   "execution_count": 10,
   "metadata": {},
   "outputs": [
    {
     "data": {
      "text/plain": [
       "'Screw yyou guyss, I am ggoinng home. (c)'"
      ]
     },
     "execution_count": 10,
     "metadata": {},
     "output_type": "execute_result"
    }
   ],
   "source": [
    "# Повторение случайной буквы\n",
    "char_aug.augment(text=text, action=\"multiply\")"
   ]
  },
  {
   "cell_type": "code",
   "execution_count": 11,
   "metadata": {},
   "outputs": [
    {
     "data": {
      "text/plain": [
       "'Srcewy ou guys,I  am oging hmoe. (c)'"
      ]
     },
     "execution_count": 11,
     "metadata": {},
     "output_type": "execute_result"
    }
   ],
   "source": [
    "# Поменять местами соседние буквы\n",
    "char_aug.augment(text=text, action=\"swap\")"
   ]
  },
  {
   "cell_type": "code",
   "execution_count": 12,
   "metadata": {},
   "outputs": [
    {
     "data": {
      "text/plain": [
       "['Screw you guyss, I am going home. (c)',\n",
       " 'Screw eou guys, I em goifg home. (c)',\n",
       " 'Screw you guys, I am going home. (c)',\n",
       " 'Screw you guys, I am going home. (c)',\n",
       " 'Screw you yuys, I am goibg hone. (c)',\n",
       " 'Screw you guys, I am going home. (c)',\n",
       " 'Screw youg uys,  Iam igong hmoe. (c)',\n",
       " 'Screw you guys, I am going home. (c)',\n",
       " 'Srcwe you gyus, Ia m giong home. (c)',\n",
       " 'Screw you guys, I am going home. (c)']"
      ]
     },
     "execution_count": 12,
     "metadata": {},
     "output_type": "execute_result"
    }
   ],
   "source": [
    "# Аугментации для батча тектов. batch_prob определяет долю элементов списка которые будут изменены\n",
    "text_list = [\"Screw you guys, I am going home. (c)\"] * 10\n",
    "char_aug.aug_batch(text_list, batch_prob=0.5)"
   ]
  },
  {
   "cell_type": "code",
   "execution_count": 13,
   "metadata": {},
   "outputs": [
    {
     "data": {
      "text/plain": [
       "['Screw you guys, I am going home. (c)',\n",
       " 'Screw you guys, I am going home. (c)',\n",
       " 'Screw you guys, I am going home. (c)',\n",
       " 'Screw you guyss, I am goingg home. (c)',\n",
       " 'Screw you guys, I am going home. (c)',\n",
       " 'Screw you guys, II am going home. (c)',\n",
       " 'Screw you guys, II am going hhome. (c))',\n",
       " 'Screw you guys, I am going home. (c)',\n",
       " 'Scrrew you guys, I am goingg home. (c)',\n",
       " 'Screw you guys, I am going home. (c)']"
      ]
     },
     "execution_count": 13,
     "metadata": {},
     "output_type": "execute_result"
    }
   ],
   "source": [
    "# также можно определить тип аугментации который будет применен, по умолчанию будет применена случайный вид аугментации\n",
    "text_list = [\"Screw you guys, I am going home. (c)\"] * 10\n",
    "char_aug.aug_batch(text_list, batch_prob=0.5, action=\"multiply\")\n"
   ]
  },
  {
   "attachments": {},
   "cell_type": "markdown",
   "metadata": {},
   "source": [
    "# Аугментации на уровне слов"
   ]
  },
  {
   "cell_type": "code",
   "execution_count": 14,
   "metadata": {},
   "outputs": [],
   "source": [
    "from augmentex import WordAug\n"
   ]
  },
  {
   "cell_type": "code",
   "execution_count": 15,
   "metadata": {},
   "outputs": [],
   "source": [
    "word_aug = WordAug(\n",
    "    unit_prob=0.4, # Процент фразы к которой будут применены аугментации\n",
    "    min_aug=1, # Минимальное количество аугментаций\n",
    "    max_aug=5, # Максимальное количество аугментаций\n",
    "    random_seed=42,\n",
    "    lang=\"eng\",\n",
    "    platform=\"pc\",\n",
    "    )\n",
    "\n",
    "text = \"Screw you guys, I am going home. (c)\""
   ]
  },
  {
   "cell_type": "code",
   "execution_count": 16,
   "metadata": {},
   "outputs": [
    {
     "data": {
      "text/plain": [
       "'S c r e w y o u guys, I am g o i n g home. (c)'"
      ]
     },
     "execution_count": 16,
     "metadata": {},
     "output_type": "execute_result"
    }
   ],
   "source": [
    "# В методе augment, если не указывать action, то будет применен случайно выбранный\n",
    "word_aug.augment(text=text)"
   ]
  },
  {
   "cell_type": "code",
   "execution_count": 17,
   "metadata": {},
   "outputs": [
    {
     "data": {
      "text/plain": [
       "['replace', 'delete', 'swap', 'stopword', 'reverse', 'text2emoji', 'split']"
      ]
     },
     "execution_count": 17,
     "metadata": {},
     "output_type": "execute_result"
    }
   ],
   "source": [
    "# Список доступных аугментаций\n",
    "word_aug.actions_list"
   ]
  },
  {
   "cell_type": "code",
   "execution_count": 18,
   "metadata": {},
   "outputs": [
    {
     "data": {
      "text/plain": [
       "'Screw to guys, I to going com. (c)'"
      ]
     },
     "execution_count": 18,
     "metadata": {},
     "output_type": "execute_result"
    }
   ],
   "source": [
    "# Заменяет правильно написанное слово на такое же с орфографической ошибкой\n",
    "word_aug.augment(text=text, action=\"replace\")"
   ]
  },
  {
   "cell_type": "code",
   "execution_count": 19,
   "metadata": {},
   "outputs": [
    {
     "data": {
      "text/plain": [
       "'you I am home. (c)'"
      ]
     },
     "execution_count": 19,
     "metadata": {},
     "output_type": "execute_result"
    }
   ],
   "source": [
    "# Удаляет случайные слова из текста\n",
    "word_aug.augment(text=text, action=\"delete\")"
   ]
  },
  {
   "cell_type": "code",
   "execution_count": 20,
   "metadata": {},
   "outputs": [
    {
     "data": {
      "text/plain": [
       "'Screw I guys, am home. going you (c)'"
      ]
     },
     "execution_count": 20,
     "metadata": {},
     "output_type": "execute_result"
    }
   ],
   "source": [
    "# Перестановка двух случайных слов\n",
    "word_aug.augment(text=text, action=\"swap\")"
   ]
  },
  {
   "cell_type": "code",
   "execution_count": 21,
   "metadata": {},
   "outputs": [
    {
     "data": {
      "text/plain": [
       "'like Screw you guys, I am going completely home. by the way (c)'"
      ]
     },
     "execution_count": 21,
     "metadata": {},
     "output_type": "execute_result"
    }
   ],
   "source": [
    "# Cлучайная вставка слов-паразитов\n",
    "word_aug.augment(text=text, action=\"stopword\")"
   ]
  },
  {
   "cell_type": "code",
   "execution_count": 22,
   "metadata": {},
   "outputs": [
    {
     "data": {
      "text/plain": [
       "'Screw You guys, i Am going home. (c)'"
      ]
     },
     "execution_count": 22,
     "metadata": {},
     "output_type": "execute_result"
    }
   ],
   "source": [
    "# Меняет написание заглавной буквы в словах\n",
    "word_aug.augment(text=text, action=\"reverse\")"
   ]
  },
  {
   "cell_type": "code",
   "execution_count": 23,
   "metadata": {},
   "outputs": [
    {
     "data": {
      "text/plain": [
       "'Screw you guys, I am going home. (c)'"
      ]
     },
     "execution_count": 23,
     "metadata": {},
     "output_type": "execute_result"
    }
   ],
   "source": [
    "# Меняет слово на соответствующий эмодзи\n",
    "word_aug.augment(text=text, action=\"text2emoji\")"
   ]
  },
  {
   "cell_type": "code",
   "execution_count": 24,
   "metadata": {},
   "outputs": [
    {
     "data": {
      "text/plain": [
       "'Screw y o u guys, I am going h o m e . (c)'"
      ]
     },
     "execution_count": 24,
     "metadata": {},
     "output_type": "execute_result"
    }
   ],
   "source": [
    "# Добавляет в слово пробелы между буквами\n",
    "word_aug.augment(text=text, action=\"split\")"
   ]
  },
  {
   "cell_type": "code",
   "execution_count": 25,
   "metadata": {},
   "outputs": [
    {
     "data": {
      "text/plain": [
       "['screw You guys, i am going home. (c)',\n",
       " 'well Screw you guys, I certainly am going anyway home. (c)',\n",
       " 'Screw you guys, I am going home. (c)',\n",
       " 'Screw you guys, I am going home. (c)',\n",
       " 'Screw you guys, I am going home. c',\n",
       " 'Screw you guys, I am going home. (c)',\n",
       " 'Screw I am going (c)',\n",
       " 'Screw you guys, I am going home. (c)',\n",
       " 'Screw you guys, I am going home. (c)',\n",
       " 'Screw you (c) guys, home. going am I']"
      ]
     },
     "execution_count": 25,
     "metadata": {},
     "output_type": "execute_result"
    }
   ],
   "source": [
    "text_list = [\"Screw you guys, I am going home. (c)\"] * 10\n",
    "word_aug.aug_batch(text_list, batch_prob=0.5)"
   ]
  },
  {
   "cell_type": "code",
   "execution_count": 26,
   "metadata": {},
   "outputs": [
    {
     "data": {
      "text/plain": [
       "['Screw to guys, I am going house. at',\n",
       " 'screws your guys, I am goning home. (c)',\n",
       " 'Screw you guys, I am going home. (c)',\n",
       " 'Screw you gus, to am going house. (c)',\n",
       " 'Screw you guys, I am going home. (c)',\n",
       " 'Screw you guys, I am going home. (c)',\n",
       " 'Screw you guys, I am going home. (c)',\n",
       " 'Screw you guys, I i goning homes. (c)',\n",
       " 'Screw to guys, I was coming home. (c)',\n",
       " 'Screw you guys, I am going home. (c)']"
      ]
     },
     "execution_count": 26,
     "metadata": {},
     "output_type": "execute_result"
    }
   ],
   "source": [
    "# Также можно определить тип аугментации который будет применен, по умолчанию будет применена случайный вид аугментации\n",
    "text_list = [\"Screw you guys, I am going home. (c)\"] * 10\n",
    "word_aug.aug_batch(text_list, batch_prob=0.5, action=\"replace\")"
   ]
  },
  {
   "attachments": {},
   "cell_type": "markdown",
   "metadata": {},
   "source": [
    "# Compute own statistic"
   ]
  },
  {
   "cell_type": "code",
   "execution_count": 27,
   "metadata": {},
   "outputs": [],
   "source": [
    "char_aug = CharAug(\n",
    "    unit_prob=0.3, # Процент фразы к которой будут применены аугментации\n",
    "    min_aug=1, # Минимальное количество аугментаций\n",
    "    max_aug=5, # Максимальное количество аугментаций\n",
    "    mult_num=3, # Максимальное количество повторений символов (только для метода multiply)\n",
    "    random_seed=42,\n",
    "    lang=\"eng\",\n",
    "    platform=\"pc\",\n",
    "    correct_texts_path=\"correct_texts.txt\",\n",
    "    error_texts_path=\"error_texts.txt\",\n",
    "    )\n",
    "\n",
    "text = \"Screw you guys, I am going home. (c)\""
   ]
  },
  {
   "cell_type": "code",
   "execution_count": 28,
   "metadata": {},
   "outputs": [
    {
     "data": {
      "text/plain": [
       "'Ssrew yfu guys, I am going home. (c)'"
      ]
     },
     "execution_count": 28,
     "metadata": {},
     "output_type": "execute_result"
    }
   ],
   "source": [
    "# Заменить буквы на ошибочные согласно статистике ошибок\n",
    "char_aug.augment(text=text, action=\"orfo\")"
   ]
  },
  {
   "cell_type": "code",
   "execution_count": 29,
   "metadata": {},
   "outputs": [],
   "source": [
    "word_aug = WordAug(\n",
    "    unit_prob=0.4, # Процент фразы к которой будут применены аугментации\n",
    "    min_aug=1, # Минимальное количество аугментаций\n",
    "    max_aug=5, # Максимальное количество аугментаций\n",
    "    random_seed=42,\n",
    "    lang=\"eng\",\n",
    "    platform=\"pc\",\n",
    "    correct_texts_path=\"correct_texts.txt\",\n",
    "    error_texts_path=\"error_texts.txt\",\n",
    "    )\n",
    "\n",
    "text = \"Screw you guys, I am going home. (c)\""
   ]
  },
  {
   "cell_type": "code",
   "execution_count": 30,
   "metadata": {},
   "outputs": [
    {
     "data": {
      "text/plain": [
       "'Screw jo guys, I am going home. (c)'"
      ]
     },
     "execution_count": 30,
     "metadata": {},
     "output_type": "execute_result"
    }
   ],
   "source": [
    "# Заменяет правильно написанное слово на такое же с орфографической ошибкой\n",
    "word_aug.augment(text=text, action=\"replace\")"
   ]
  },
  {
   "cell_type": "code",
   "execution_count": null,
   "metadata": {},
   "outputs": [],
   "source": []
  }
 ],
 "metadata": {
  "kernelspec": {
   "display_name": "venv",
   "language": "python",
   "name": "python3"
  },
  "language_info": {
   "codemirror_mode": {
    "name": "ipython",
    "version": 3
   },
   "file_extension": ".py",
   "mimetype": "text/x-python",
   "name": "python",
   "nbconvert_exporter": "python",
   "pygments_lexer": "ipython3",
   "version": "3.10.0"
  },
  "pycharm": {
   "stem_cell": {
    "cell_type": "raw",
    "metadata": {
     "collapsed": false
    },
    "source": []
   }
  },
  "vscode": {
   "interpreter": {
    "hash": "a27ddbd5b643232876b26334233e9f91183c7ac6b80251be0efee841d6766027"
   }
  }
 },
 "nbformat": 4,
 "nbformat_minor": 4
}
